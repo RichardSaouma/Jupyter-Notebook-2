{
 "cells": [
  {
   "cell_type": "code",
   "execution_count": 45,
   "metadata": {
    "collapsed": false
   },
   "outputs": [],
   "source": [
    "import numpy as np\n",
    "import scipy as sc\n",
    "from scipy import stats\n",
    "import matplotlib.pyplot as plt\n",
    "%matplotlib inline \n",
    "import pandas as pd\n",
    "from pandas import DataFrame, Series\n",
    "import os\n",
    "db = pd.read_csv('dropoutrates.csv', header=0)\n",
    "db2= pd.read_csv('dropoutVSmedincome.csv', header=0)\n",
    "# http://www.dyinglovegrape.com/data_analysis/part2/2da4.php"
   ]
  },
  {
   "cell_type": "code",
   "execution_count": 19,
   "metadata": {
    "collapsed": false
   },
   "outputs": [
    {
     "data": {
      "text/html": [
       "<div>\n",
       "<table border=\"1\" class=\"dataframe\">\n",
       "  <thead>\n",
       "    <tr style=\"text-align: right;\">\n",
       "      <th></th>\n",
       "      <th>School Name</th>\n",
       "      <th>Network</th>\n",
       "      <th>DO2010</th>\n",
       "      <th>DO2011</th>\n",
       "      <th>DO2012</th>\n",
       "    </tr>\n",
       "  </thead>\n",
       "  <tbody>\n",
       "    <tr>\n",
       "      <th>0</th>\n",
       "      <td>ACE TECHNICAL CHARTER HS</td>\n",
       "      <td>Charter/Contract Schools</td>\n",
       "      <td>7.1</td>\n",
       "      <td>7.6</td>\n",
       "      <td>7.3</td>\n",
       "    </tr>\n",
       "    <tr>\n",
       "      <th>1</th>\n",
       "      <td>AIR FORCE HS</td>\n",
       "      <td>Southwest Side High School Network</td>\n",
       "      <td>4.9</td>\n",
       "      <td>5.0</td>\n",
       "      <td>0.7</td>\n",
       "    </tr>\n",
       "    <tr>\n",
       "      <th>2</th>\n",
       "      <td>ALCOTT HS</td>\n",
       "      <td>North-Northwest Side High School Network</td>\n",
       "      <td>0.0</td>\n",
       "      <td>4.8</td>\n",
       "      <td>1.8</td>\n",
       "    </tr>\n",
       "    <tr>\n",
       "      <th>3</th>\n",
       "      <td>AMUNDSEN HS</td>\n",
       "      <td>North-Northwest Side High School Network</td>\n",
       "      <td>9.1</td>\n",
       "      <td>6.9</td>\n",
       "      <td>6.0</td>\n",
       "    </tr>\n",
       "    <tr>\n",
       "      <th>4</th>\n",
       "      <td>ASPIRA CHTR - EARLY COLLEGE HS</td>\n",
       "      <td>Charter/Contract Schools</td>\n",
       "      <td>4.7</td>\n",
       "      <td>4.3</td>\n",
       "      <td>4.8</td>\n",
       "    </tr>\n",
       "  </tbody>\n",
       "</table>\n",
       "</div>"
      ],
      "text/plain": [
       "                      School Name                                   Network  \\\n",
       "0        ACE TECHNICAL CHARTER HS                  Charter/Contract Schools   \n",
       "1                    AIR FORCE HS        Southwest Side High School Network   \n",
       "2                       ALCOTT HS  North-Northwest Side High School Network   \n",
       "3                     AMUNDSEN HS  North-Northwest Side High School Network   \n",
       "4  ASPIRA CHTR - EARLY COLLEGE HS                  Charter/Contract Schools   \n",
       "\n",
       "   DO2010  DO2011  DO2012  \n",
       "0     7.1     7.6     7.3  \n",
       "1     4.9     5.0     0.7  \n",
       "2     0.0     4.8     1.8  \n",
       "3     9.1     6.9     6.0  \n",
       "4     4.7     4.3     4.8  "
      ]
     },
     "execution_count": 19,
     "metadata": {},
     "output_type": "execute_result"
    }
   ],
   "source": [
    "table = DataFrame(db)\n",
    "table.head()"
   ]
  },
  {
   "cell_type": "code",
   "execution_count": 20,
   "metadata": {
    "collapsed": false
   },
   "outputs": [
    {
     "data": {
      "text/plain": [
       "0                      Charter/Contract Schools\n",
       "1            Southwest Side High School Network\n",
       "2      North-Northwest Side High School Network\n",
       "3      North-Northwest Side High School Network\n",
       "4                      Charter/Contract Schools\n",
       "5                      Charter/Contract Schools\n",
       "6                 West Side High School Network\n",
       "7                 West Side High School Network\n",
       "8                           Alternative Schools\n",
       "9                           Alternative Schools\n",
       "10                          Alternative Schools\n",
       "11           Southwest Side High School Network\n",
       "12               South Side High School Network\n",
       "13               South Side High School Network\n",
       "14           Far South Side High School Network\n",
       "15           Far South Side High School Network\n",
       "16                                 AUSL Schools\n",
       "17           Far South Side High School Network\n",
       "18                     Charter/Contract Schools\n",
       "19                     Charter/Contract Schools\n",
       "20               South Side High School Network\n",
       "21                     Charter/Contract Schools\n",
       "22               South Side High School Network\n",
       "23                     Charter/Contract Schools\n",
       "24                     Charter/Contract Schools\n",
       "25               South Side High School Network\n",
       "26                     Charter/Contract Schools\n",
       "27                     Charter/Contract Schools\n",
       "28                     Charter/Contract Schools\n",
       "29                     Charter/Contract Schools\n",
       "                         ...                   \n",
       "121                    Charter/Contract Schools\n",
       "122              South Side High School Network\n",
       "123                         Alternative Schools\n",
       "124                                AUSL Schools\n",
       "125              South Side High School Network\n",
       "126          Southwest Side High School Network\n",
       "127               West Side High School Network\n",
       "128    North-Northwest Side High School Network\n",
       "129    North-Northwest Side High School Network\n",
       "130    North-Northwest Side High School Network\n",
       "131          Southwest Side High School Network\n",
       "132          Southwest Side High School Network\n",
       "133          Southwest Side High School Network\n",
       "134                    Charter/Contract Schools\n",
       "135                    Charter/Contract Schools\n",
       "136    North-Northwest Side High School Network\n",
       "137                    Charter/Contract Schools\n",
       "138                    Charter/Contract Schools\n",
       "139                    Charter/Contract Schools\n",
       "140    North-Northwest Side High School Network\n",
       "141                         Alternative Schools\n",
       "142               West Side High School Network\n",
       "143    North-Northwest Side High School Network\n",
       "144          Far South Side High School Network\n",
       "145               West Side High School Network\n",
       "146              South Side High School Network\n",
       "147               West Side High School Network\n",
       "148                    Charter/Contract Schools\n",
       "149               West Side High School Network\n",
       "150                    Charter/Contract Schools\n",
       "Name: Network, dtype: object"
      ]
     },
     "execution_count": 20,
     "metadata": {},
     "output_type": "execute_result"
    }
   ],
   "source": [
    "table['Network']"
   ]
  },
  {
   "cell_type": "code",
   "execution_count": 21,
   "metadata": {
    "collapsed": false
   },
   "outputs": [
    {
     "data": {
      "text/html": [
       "<div>\n",
       "<table border=\"1\" class=\"dataframe\">\n",
       "  <thead>\n",
       "    <tr style=\"text-align: right;\">\n",
       "      <th></th>\n",
       "      <th>school</th>\n",
       "      <th>DO2012</th>\n",
       "      <th>median income</th>\n",
       "    </tr>\n",
       "  </thead>\n",
       "  <tbody>\n",
       "    <tr>\n",
       "      <th>0</th>\n",
       "      <td>amundsen</td>\n",
       "      <td>6.0</td>\n",
       "      <td>50065</td>\n",
       "    </tr>\n",
       "    <tr>\n",
       "      <th>1</th>\n",
       "      <td>clemente</td>\n",
       "      <td>0.9</td>\n",
       "      <td>58987</td>\n",
       "    </tr>\n",
       "    <tr>\n",
       "      <th>2</th>\n",
       "      <td>corliss</td>\n",
       "      <td>2.3</td>\n",
       "      <td>40394</td>\n",
       "    </tr>\n",
       "    <tr>\n",
       "      <th>3</th>\n",
       "      <td>douglass</td>\n",
       "      <td>0.6</td>\n",
       "      <td>28059</td>\n",
       "    </tr>\n",
       "    <tr>\n",
       "      <th>4</th>\n",
       "      <td>eric solorio academy hs</td>\n",
       "      <td>3.0</td>\n",
       "      <td>42809</td>\n",
       "    </tr>\n",
       "  </tbody>\n",
       "</table>\n",
       "</div>"
      ],
      "text/plain": [
       "                    school  DO2012  median income\n",
       "0                 amundsen     6.0          50065\n",
       "1                 clemente     0.9          58987\n",
       "2                  corliss     2.3          40394\n",
       "3                 douglass     0.6          28059\n",
       "4  eric solorio academy hs     3.0          42809"
      ]
     },
     "execution_count": 21,
     "metadata": {},
     "output_type": "execute_result"
    }
   ],
   "source": [
    "table2=DataFrame(db2)\n",
    "db2.head()"
   ]
  },
  {
   "cell_type": "code",
   "execution_count": 32,
   "metadata": {
    "collapsed": false
   },
   "outputs": [
    {
     "data": {
      "text/plain": [
       "<matplotlib.collections.PathCollection at 0x10ba3bc18>"
      ]
     },
     "execution_count": 32,
     "metadata": {},
     "output_type": "execute_result"
    },
    {
     "data": {
      "image/png": "[encoded data removed]",
      "text/plain": [
       "<matplotlib.figure.Figure at 0x10be9cbe0>"
      ]
     },
     "metadata": {},
     "output_type": "display_data"
    }
   ],
   "source": [
    "plt.scatter(db2['DO2012'],db2['median income'])"
   ]
  },
  {
   "cell_type": "code",
   "execution_count": 47,
   "metadata": {
    "collapsed": false
   },
   "outputs": [
    {
     "data": {
      "text/plain": [
       "[<matplotlib.lines.Line2D at 0x10e5d4198>]"
      ]
     },
     "execution_count": 47,
     "metadata": {},
     "output_type": "execute_result"
    },
    {
     "data": {
      "image/png": "[encoded data removed]",
      "text/plain": [
       "<matplotlib.figure.Figure at 0x10e57bc18>"
      ]
     },
     "metadata": {},
     "output_type": "display_data"
    }
   ],
   "source": [
    "regressionline = sc.stats.linregress(db2['DO2012'], db2['median income'])\n",
    "\n",
    "m = regressionline[0]\n",
    "b = regressionline[1]\n",
    "\n",
    "x = np.linspace(0, 18, 100)\n",
    "\n",
    "plt.plot(x, m*x + b)"
   ]
  },
  {
   "cell_type": "code",
   "execution_count": 46,
   "metadata": {
    "collapsed": false
   },
   "outputs": [],
   "source": [
    "?sc.stats"
   ]
  },
  {
   "cell_type": "code",
   "execution_count": null,
   "metadata": {
    "collapsed": true
   },
   "outputs": [],
   "source": []
  },
  {
   "cell_type": "code",
   "execution_count": null,
   "metadata": {
    "collapsed": true
   },
   "outputs": [],
   "source": []
  },
  {
   "cell_type": "code",
   "execution_count": null,
   "metadata": {
    "collapsed": true
   },
   "outputs": [],
   "source": []
  },
  {
   "cell_type": "code",
   "execution_count": null,
   "metadata": {
    "collapsed": true
   },
   "outputs": [],
   "source": []
  }
 ],
 "metadata": {
  "kernelspec": {
   "display_name": "Python 3",
   "language": "python",
   "name": "python3"
  },
  "language_info": {
   "codemirror_mode": {
    "name": "ipython",
    "version": 3
   },
   "file_extension": ".py",
   "mimetype": "text/x-python",
   "name": "python",
   "nbconvert_exporter": "python",
   "pygments_lexer": "ipython3",
   "version": "3.5.1"
  }
 },
 "nbformat": 4,
 "nbformat_minor": 0
}
